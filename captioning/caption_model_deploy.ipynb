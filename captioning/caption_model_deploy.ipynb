{
 "cells": [
  {
   "cell_type": "code",
   "execution_count": null,
   "id": "2cd439c7",
   "metadata": {},
   "outputs": [],
   "source": [
    "pip install \"sagemaker>=2.140.0\" \"transformers==4.26.1\" \"datasets[s3]==2.10.1\" --upgrade"
   ]
  },
  {
   "cell_type": "code",
   "execution_count": 57,
   "id": "72ec981a",
   "metadata": {},
   "outputs": [
    {
     "name": "stdout",
     "output_type": "stream",
     "text": [
      "arn:aws:iam::756963467680:role/service-role/AmazonSageMakerServiceCatalogProductsUseRole\n",
      "<sagemaker.session.Session object at 0x7f352710ffd0>\n"
     ]
    }
   ],
   "source": [
    "import sagemaker\n",
    "import boto3\n",
    "sess = sagemaker.Session()\n",
    "sagemaker_session_bucket = None\n",
    "if sagemaker_session_bucket is None and sess is not None:\n",
    "    sagemaker_session_bucket = sess.default_bucket()\n",
    "\n",
    "role = sagemaker.get_execution_role()\n",
    "sess = sagemaker.Session(default_bucket=sagemaker_session_bucket)\n",
    "print(role)\n",
    "print(sess)"
   ]
  },
  {
   "cell_type": "code",
   "execution_count": 58,
   "id": "7152b7d0",
   "metadata": {},
   "outputs": [],
   "source": [
    "from sagemaker.huggingface.model import HuggingFaceModel\n",
    "\n",
    "# create Hugging Face Model Class\n",
    "huggingface_model = HuggingFaceModel(\n",
    "   model_data=\"s3://image-captioning-model/model.tar.gz\",  # path to your trained SageMaker model\n",
    "   role=role,                                            # IAM role with permissions to create an endpoint\n",
    "   transformers_version=\"4.26\",                           # Transformers version used\n",
    "   pytorch_version=\"1.13\",                                # PyTorch version used\n",
    "   py_version='py39',                                    # Python version used\n",
    ")"
   ]
  },
  {
   "cell_type": "code",
   "execution_count": 59,
   "id": "59a011fb",
   "metadata": {},
   "outputs": [
    {
     "name": "stdout",
     "output_type": "stream",
     "text": [
      "-----!"
     ]
    }
   ],
   "source": [
    "# deploy model to SageMaker Inference\n",
    "predictor = huggingface_model.deploy(\n",
    "   initial_instance_count=1,\n",
    "   instance_type=\"ml.m5.xlarge\",\n",
    ")"
   ]
  },
  {
   "cell_type": "code",
   "execution_count": 60,
   "id": "a80dadd0",
   "metadata": {},
   "outputs": [
    {
     "data": {
      "text/plain": [
       "'[\"a pair of parrots standing next to each other\"]'"
      ]
     },
     "execution_count": 60,
     "metadata": {},
     "output_type": "execute_result"
    }
   ],
   "source": [
    "# example request: you always need to define \"inputs\"\n",
    "data = {\n",
    "   \"inputs\": ['https://huggingface.co/datasets/Narsil/image_dummy/raw/main/parrots.png']\n",
    "}\n",
    "\n",
    "# request\n",
    "predictor.predict(data)[0]"
   ]
  },
  {
   "cell_type": "code",
   "execution_count": 61,
   "id": "b9a416b7",
   "metadata": {},
   "outputs": [
    {
     "data": {
      "text/plain": [
       "'huggingface-pytorch-inference-2023-12-15-21-16-41-656'"
      ]
     },
     "execution_count": 61,
     "metadata": {},
     "output_type": "execute_result"
    }
   ],
   "source": [
    "predictor.endpoint_name"
   ]
  },
  {
   "cell_type": "code",
   "execution_count": 62,
   "id": "82161a4e",
   "metadata": {},
   "outputs": [
    {
     "name": "stdout",
     "output_type": "stream",
     "text": [
      "000df100-cb97-4a12-b5ec-4dbc48c0dfff_image_3704.jpg <class 'str'>\n"
     ]
    }
   ],
   "source": [
    "import base64\n",
    "import os\n",
    "s3 = boto3.client('s3')\n",
    "response = s3.list_objects_v2(Bucket='memerr-memes')\n",
    "\n",
    "# Print the list of objects\n",
    "if 'Contents' in response:\n",
    "    for obj in response['Contents']:\n",
    "        object_key = obj['Key']\n",
    "\n",
    "        if 'jpg' or 'png' in object_key.lower():\n",
    "            img_response = s3.get_object(Bucket='memerr-memes', Key=object_key)\n",
    "            file_path = os.path.join('./', 'image.png')\n",
    "            with open(file_path, 'wb') as f:\n",
    "                s3.download_fileobj('memerr-memes', object_key, f)\n",
    "\n",
    "            with open(\"./image.png\", \"rb\") as f:\n",
    "                image_data = f.read()\n",
    "            # image_data = img_response['Body'].read()\n",
    "            base64_image = base64.b64encode(image_data).decode('utf-8')\n",
    "\n",
    "            print(object_key, type(base64_image))\n",
    "            break\n",
    "            # result = process_image(base64_image)"
   ]
  },
  {
   "cell_type": "code",
   "execution_count": 84,
   "id": "f9037b6d",
   "metadata": {},
   "outputs": [
    {
     "name": "stdout",
     "output_type": "stream",
     "text": [
      "{'ResponseMetadata': {'RequestId': '41b455ae-1e3f-4d30-a1b1-78a830e96bc0', 'HTTPStatusCode': 200, 'HTTPHeaders': {'x-amzn-requestid': '41b455ae-1e3f-4d30-a1b1-78a830e96bc0', 'x-amzn-invoked-production-variant': 'AllTraffic', 'date': 'Fri, 15 Dec 2023 21:32:06 GMT', 'content-type': 'application/json', 'content-length': '80', 'connection': 'keep-alive'}, 'RetryAttempts': 0}, 'ContentType': 'application/json', 'InvokedProductionVariant': 'AllTraffic', 'Body': <botocore.response.StreamingBody object at 0x7f351e836c20>}\n"
     ]
    }
   ],
   "source": [
    "import json\n",
    "input_data = {\"inputs\": [base64_image]}\n",
    "runtime= boto3.client('runtime.sagemaker')\n",
    "response = runtime.invoke_endpoint(EndpointName=predictor.endpoint_name,\n",
    "                                       ContentType='application/json',\n",
    "                                       Body=json.dumps(input_data))\n",
    "print(response)"
   ]
  },
  {
   "cell_type": "code",
   "execution_count": 85,
   "id": "8c5404fd",
   "metadata": {},
   "outputs": [
    {
     "name": "stdout",
     "output_type": "stream",
     "text": [
      "b'[\\n  \"[\\\\\"a man in a suit and tie posing for a picture\\\\\"]\",\\n  \"application/json\"\\n]'\n",
      "\n"
     ]
    }
   ],
   "source": [
    "# Read the content as bytes\n",
    "content_bytes = response['Body'].read()\n",
    "\n",
    "# Decode bytes into text using the appropriate encoding (e.g., UTF-8)\n",
    "content_text = content_bytes.decode('utf-8')\n",
    "print(content_bytes)\n",
    "print((response['Body'].read().decode('utf-8')))"
   ]
  }
 ],
 "metadata": {
  "kernelspec": {
   "display_name": "conda_pytorch_p310",
   "language": "python",
   "name": "conda_pytorch_p310"
  },
  "language_info": {
   "codemirror_mode": {
    "name": "ipython",
    "version": 3
   },
   "file_extension": ".py",
   "mimetype": "text/x-python",
   "name": "python",
   "nbconvert_exporter": "python",
   "pygments_lexer": "ipython3",
   "version": "3.10.13"
  }
 },
 "nbformat": 4,
 "nbformat_minor": 5
}
